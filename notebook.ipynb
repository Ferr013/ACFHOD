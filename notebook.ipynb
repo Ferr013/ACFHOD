{
 "cells": [
  {
   "cell_type": "code",
   "execution_count": 2,
   "metadata": {},
   "outputs": [
    {
     "ename": "ImportError",
     "evalue": "cannot import name 'simps' from 'scipy.integrate' (/Users/giofer/anaconda3/envs/HOD/lib/python3.11/site-packages/scipy/integrate/__init__.py)",
     "output_type": "error",
     "traceback": [
      "\u001b[0;31m---------------------------------------------------------------------------\u001b[0m",
      "\u001b[0;31mImportError\u001b[0m                               Traceback (most recent call last)",
      "Cell \u001b[0;32mIn[2], line 2\u001b[0m\n\u001b[1;32m      1\u001b[0m \u001b[38;5;28;01mimport\u001b[39;00m \u001b[38;5;21;01mnumpy\u001b[39;00m \u001b[38;5;28;01mas\u001b[39;00m \u001b[38;5;21;01mnp\u001b[39;00m\n\u001b[0;32m----> 2\u001b[0m \u001b[38;5;28;01mimport\u001b[39;00m \u001b[38;5;21;01macfhod\u001b[39;00m\u001b[38;5;21;01m.\u001b[39;00m\u001b[38;5;21;01mClusteringAnalysis\u001b[39;00m\u001b[38;5;21;01m.\u001b[39;00m\u001b[38;5;21;01mCA\u001b[39;00m \u001b[38;5;28;01mas\u001b[39;00m \u001b[38;5;21;01mCA\u001b[39;00m\n",
      "File \u001b[0;32m~/Documents/GitHub/ACFHOD/acfhod/ClusteringAnalysis/CA.py:8\u001b[0m\n\u001b[1;32m      6\u001b[0m \u001b[38;5;28;01mfrom\u001b[39;00m \u001b[38;5;21;01mscipy\u001b[39;00m \u001b[38;5;28;01mimport\u001b[39;00m special\n\u001b[1;32m      7\u001b[0m \u001b[38;5;28;01mfrom\u001b[39;00m \u001b[38;5;21;01mscipy\u001b[39;00m\u001b[38;5;21;01m.\u001b[39;00m\u001b[38;5;21;01minterpolate\u001b[39;00m \u001b[38;5;28;01mimport\u001b[39;00m splrep, splev, splint\n\u001b[0;32m----> 8\u001b[0m \u001b[38;5;28;01mfrom\u001b[39;00m \u001b[38;5;21;01mhalomod\u001b[39;00m\u001b[38;5;21;01m.\u001b[39;00m\u001b[38;5;21;01mbias\u001b[39;00m \u001b[38;5;28;01mimport\u001b[39;00m Tinker10\n\u001b[1;32m      9\u001b[0m \u001b[38;5;28;01mimport\u001b[39;00m \u001b[38;5;21;01macfhod\u001b[39;00m\u001b[38;5;21;01m.\u001b[39;00m\u001b[38;5;21;01mHOD\u001b[39;00m\u001b[38;5;21;01m.\u001b[39;00m\u001b[38;5;21;01mHOD\u001b[39;00m \u001b[38;5;28;01mas\u001b[39;00m \u001b[38;5;21;01mHOD\u001b[39;00m\n\u001b[1;32m     10\u001b[0m \u001b[38;5;28;01mimport\u001b[39;00m \u001b[38;5;21;01macfhod\u001b[39;00m\u001b[38;5;21;01m.\u001b[39;00m\u001b[38;5;21;01mUtils\u001b[39;00m\u001b[38;5;21;01m.\u001b[39;00m\u001b[38;5;21;01mUtils\u001b[39;00m \u001b[38;5;28;01mas\u001b[39;00m \u001b[38;5;21;01mutils\u001b[39;00m\n",
      "File \u001b[0;32m~/anaconda3/envs/HOD/lib/python3.11/site-packages/halomod/__init__.py:16\u001b[0m\n\u001b[1;32m     12\u001b[0m \u001b[38;5;28;01mexcept\u001b[39;00m PackageNotFoundError:\n\u001b[1;32m     13\u001b[0m     \u001b[38;5;66;03m# package is not installed\u001b[39;00m\n\u001b[1;32m     14\u001b[0m     \u001b[38;5;28;01mpass\u001b[39;00m\n\u001b[0;32m---> 16\u001b[0m \u001b[38;5;28;01mfrom\u001b[39;00m \u001b[38;5;21;01m.\u001b[39;00m \u001b[38;5;28;01mimport\u001b[39;00m (\n\u001b[1;32m     17\u001b[0m     bias,\n\u001b[1;32m     18\u001b[0m     concentration,\n\u001b[1;32m     19\u001b[0m     cross_correlations,\n\u001b[1;32m     20\u001b[0m     functional,\n\u001b[1;32m     21\u001b[0m     halo_exclusion,\n\u001b[1;32m     22\u001b[0m     halo_model,\n\u001b[1;32m     23\u001b[0m     hod,\n\u001b[1;32m     24\u001b[0m     integrate_corr,\n\u001b[1;32m     25\u001b[0m     profiles,\n\u001b[1;32m     26\u001b[0m     tools,\n\u001b[1;32m     27\u001b[0m     wdm,\n\u001b[1;32m     28\u001b[0m )\n\u001b[1;32m     29\u001b[0m \u001b[38;5;28;01mfrom\u001b[39;00m \u001b[38;5;21;01m.\u001b[39;00m\u001b[38;5;21;01mhalo_model\u001b[39;00m \u001b[38;5;28;01mimport\u001b[39;00m DMHaloModel, HaloModel, TracerHaloModel\n\u001b[1;32m     30\u001b[0m \u001b[38;5;28;01mfrom\u001b[39;00m \u001b[38;5;21;01m.\u001b[39;00m\u001b[38;5;21;01mintegrate_corr\u001b[39;00m \u001b[38;5;28;01mimport\u001b[39;00m AngularCF, ProjectedCF, projected_corr_gal\n",
      "File \u001b[0;32m~/anaconda3/envs/HOD/lib/python3.11/site-packages/halomod/bias.py:67\u001b[0m\n\u001b[1;32m     64\u001b[0m \u001b[38;5;28;01mfrom\u001b[39;00m \u001b[38;5;21;01mscipy\u001b[39;00m\u001b[38;5;21;01m.\u001b[39;00m\u001b[38;5;21;01minterpolate\u001b[39;00m \u001b[38;5;28;01mimport\u001b[39;00m InterpolatedUnivariateSpline \u001b[38;5;28;01mas\u001b[39;00m spline\n\u001b[1;32m     65\u001b[0m \u001b[38;5;28;01mfrom\u001b[39;00m \u001b[38;5;21;01mtyping\u001b[39;00m \u001b[38;5;28;01mimport\u001b[39;00m Optional, Union\n\u001b[0;32m---> 67\u001b[0m \u001b[38;5;28;01mfrom\u001b[39;00m \u001b[38;5;21;01mhmf\u001b[39;00m \u001b[38;5;28;01mimport\u001b[39;00m Component\n\u001b[1;32m     68\u001b[0m \u001b[38;5;28;01mfrom\u001b[39;00m \u001b[38;5;21;01mhmf\u001b[39;00m\u001b[38;5;21;01m.\u001b[39;00m\u001b[38;5;21;01m_internals\u001b[39;00m \u001b[38;5;28;01mimport\u001b[39;00m pluggable\n\u001b[1;32m     69\u001b[0m \u001b[38;5;28;01mfrom\u001b[39;00m \u001b[38;5;21;01mhmf\u001b[39;00m\u001b[38;5;21;01m.\u001b[39;00m\u001b[38;5;21;01mcosmology\u001b[39;00m\u001b[38;5;21;01m.\u001b[39;00m\u001b[38;5;21;01mcosmo\u001b[39;00m \u001b[38;5;28;01mimport\u001b[39;00m astropy_to_colossus\n",
      "File \u001b[0;32m~/anaconda3/envs/HOD/lib/python3.11/site-packages/hmf/__init__.py:22\u001b[0m\n\u001b[1;32m     11\u001b[0m     \u001b[38;5;28;01mpass\u001b[39;00m\n\u001b[1;32m     13\u001b[0m \u001b[38;5;28;01mfrom\u001b[39;00m \u001b[38;5;21;01m.\u001b[39;00m\u001b[38;5;21;01m_internals\u001b[39;00m \u001b[38;5;28;01mimport\u001b[39;00m (\n\u001b[1;32m     14\u001b[0m     Component,\n\u001b[1;32m     15\u001b[0m     Framework,\n\u001b[0;32m   (...)\u001b[0m\n\u001b[1;32m     20\u001b[0m     parameter,\n\u001b[1;32m     21\u001b[0m )\n\u001b[0;32m---> 22\u001b[0m \u001b[38;5;28;01mfrom\u001b[39;00m \u001b[38;5;21;01m.\u001b[39;00m\u001b[38;5;21;01malternatives\u001b[39;00m \u001b[38;5;28;01mimport\u001b[39;00m wdm\n\u001b[1;32m     23\u001b[0m \u001b[38;5;28;01mfrom\u001b[39;00m \u001b[38;5;21;01m.\u001b[39;00m\u001b[38;5;21;01mcosmology\u001b[39;00m \u001b[38;5;28;01mimport\u001b[39;00m Cosmology, GrowthFactor, cosmo, growth_factor\n\u001b[1;32m     24\u001b[0m \u001b[38;5;28;01mfrom\u001b[39;00m \u001b[38;5;21;01m.\u001b[39;00m\u001b[38;5;21;01mdensity_field\u001b[39;00m \u001b[38;5;28;01mimport\u001b[39;00m CAMB, Transfer, filters, halofit, transfer, transfer_models\n",
      "File \u001b[0;32m~/anaconda3/envs/HOD/lib/python3.11/site-packages/hmf/alternatives/__init__.py:5\u001b[0m\n\u001b[1;32m      1\u001b[0m \u001b[38;5;124;03m\"\"\"\u001b[39;00m\n\u001b[1;32m      2\u001b[0m \u001b[38;5;124;03mA subpackage dedicated to providing \"plugin\"-style alternatives to the standard halo mass function, for example\u001b[39;00m\n\u001b[1;32m      3\u001b[0m \u001b[38;5;124;03mWarm Dark Matter cosmologies.\u001b[39;00m\n\u001b[1;32m      4\u001b[0m \u001b[38;5;124;03m\"\"\"\u001b[39;00m\n\u001b[0;32m----> 5\u001b[0m \u001b[38;5;28;01mfrom\u001b[39;00m \u001b[38;5;21;01m.\u001b[39;00m \u001b[38;5;28;01mimport\u001b[39;00m wdm\n",
      "File \u001b[0;32m~/anaconda3/envs/HOD/lib/python3.11/site-packages/hmf/alternatives/wdm.py:16\u001b[0m\n\u001b[1;32m     14\u001b[0m \u001b[38;5;28;01mfrom\u001b[39;00m \u001b[38;5;21;01m.\u001b[39;00m\u001b[38;5;21;01m.\u001b[39;00m\u001b[38;5;21;01m_internals\u001b[39;00m\u001b[38;5;21;01m.\u001b[39;00m\u001b[38;5;21;01m_framework\u001b[39;00m \u001b[38;5;28;01mimport\u001b[39;00m Component, get_mdl, pluggable\n\u001b[1;32m     15\u001b[0m \u001b[38;5;28;01mfrom\u001b[39;00m \u001b[38;5;21;01m.\u001b[39;00m\u001b[38;5;21;01m.\u001b[39;00m\u001b[38;5;21;01mcosmology\u001b[39;00m\u001b[38;5;21;01m.\u001b[39;00m\u001b[38;5;21;01mcosmo\u001b[39;00m \u001b[38;5;28;01mimport\u001b[39;00m Planck15\n\u001b[0;32m---> 16\u001b[0m \u001b[38;5;28;01mfrom\u001b[39;00m \u001b[38;5;21;01m.\u001b[39;00m\u001b[38;5;21;01m.\u001b[39;00m\u001b[38;5;21;01mdensity_field\u001b[39;00m\u001b[38;5;21;01m.\u001b[39;00m\u001b[38;5;21;01mtransfer\u001b[39;00m \u001b[38;5;28;01mimport\u001b[39;00m Transfer \u001b[38;5;28;01mas\u001b[39;00m _Tr\n\u001b[1;32m     17\u001b[0m \u001b[38;5;28;01mfrom\u001b[39;00m \u001b[38;5;21;01m.\u001b[39;00m\u001b[38;5;21;01m.\u001b[39;00m\u001b[38;5;21;01mmass_function\u001b[39;00m\u001b[38;5;21;01m.\u001b[39;00m\u001b[38;5;21;01mhmf\u001b[39;00m \u001b[38;5;28;01mimport\u001b[39;00m MassFunction \u001b[38;5;28;01mas\u001b[39;00m _MF\n\u001b[1;32m     20\u001b[0m \u001b[38;5;66;03m# ===============================================================================\u001b[39;00m\n\u001b[1;32m     21\u001b[0m \u001b[38;5;66;03m# Model Components\u001b[39;00m\n\u001b[1;32m     22\u001b[0m \u001b[38;5;66;03m# ===============================================================================\u001b[39;00m\n",
      "File \u001b[0;32m~/anaconda3/envs/HOD/lib/python3.11/site-packages/hmf/density_field/__init__.py:5\u001b[0m\n\u001b[1;32m      1\u001b[0m \u001b[38;5;124;03m\"\"\"\u001b[39;00m\n\u001b[1;32m      2\u001b[0m \u001b[38;5;124;03mA subpackage dedicated to basic measures of the matter density field -- its 2-point structure, cosmological transfer\u001b[39;00m\n\u001b[1;32m      3\u001b[0m \u001b[38;5;124;03mfunctions, and filter functions which can be applied to it.\u001b[39;00m\n\u001b[1;32m      4\u001b[0m \u001b[38;5;124;03m\"\"\"\u001b[39;00m\n\u001b[0;32m----> 5\u001b[0m \u001b[38;5;28;01mfrom\u001b[39;00m \u001b[38;5;21;01m.\u001b[39;00m \u001b[38;5;28;01mimport\u001b[39;00m filters, transfer, transfer_models\n\u001b[1;32m      6\u001b[0m \u001b[38;5;28;01mfrom\u001b[39;00m \u001b[38;5;21;01m.\u001b[39;00m\u001b[38;5;21;01mfilters\u001b[39;00m \u001b[38;5;28;01mimport\u001b[39;00m Filter\n\u001b[1;32m      7\u001b[0m \u001b[38;5;28;01mfrom\u001b[39;00m \u001b[38;5;21;01m.\u001b[39;00m\u001b[38;5;21;01mhalofit\u001b[39;00m \u001b[38;5;28;01mimport\u001b[39;00m halofit\n",
      "File \u001b[0;32m~/anaconda3/envs/HOD/lib/python3.11/site-packages/hmf/density_field/transfer.py:15\u001b[0m\n\u001b[1;32m     13\u001b[0m \u001b[38;5;28;01mfrom\u001b[39;00m \u001b[38;5;21;01m.\u001b[39;00m\u001b[38;5;21;01m.\u001b[39;00m\u001b[38;5;21;01mdensity_field\u001b[39;00m \u001b[38;5;28;01mimport\u001b[39;00m filters\n\u001b[1;32m     14\u001b[0m \u001b[38;5;28;01mfrom\u001b[39;00m \u001b[38;5;21;01m.\u001b[39;00m\u001b[38;5;21;01m.\u001b[39;00m\u001b[38;5;21;01mdensity_field\u001b[39;00m \u001b[38;5;28;01mimport\u001b[39;00m transfer_models \u001b[38;5;28;01mas\u001b[39;00m tm\n\u001b[0;32m---> 15\u001b[0m \u001b[38;5;28;01mfrom\u001b[39;00m \u001b[38;5;21;01m.\u001b[39;00m\u001b[38;5;21;01mhalofit\u001b[39;00m \u001b[38;5;28;01mimport\u001b[39;00m halofit \u001b[38;5;28;01mas\u001b[39;00m _hfit\n\u001b[1;32m     16\u001b[0m \u001b[38;5;28;01mfrom\u001b[39;00m \u001b[38;5;21;01m.\u001b[39;00m\u001b[38;5;21;01mtransfer_models\u001b[39;00m \u001b[38;5;28;01mimport\u001b[39;00m HAVE_CAMB\n\u001b[1;32m     19\u001b[0m \u001b[38;5;28;01mclass\u001b[39;00m \u001b[38;5;21;01mTransfer\u001b[39;00m(cosmo\u001b[38;5;241m.\u001b[39mCosmology):\n",
      "File \u001b[0;32m~/anaconda3/envs/HOD/lib/python3.11/site-packages/hmf/density_field/halofit.py:11\u001b[0m\n\u001b[1;32m      9\u001b[0m \u001b[38;5;28;01mimport\u001b[39;00m \u001b[38;5;21;01mnumpy\u001b[39;00m \u001b[38;5;28;01mas\u001b[39;00m \u001b[38;5;21;01mnp\u001b[39;00m\n\u001b[1;32m     10\u001b[0m \u001b[38;5;28;01mimport\u001b[39;00m \u001b[38;5;21;01mwarnings\u001b[39;00m\n\u001b[0;32m---> 11\u001b[0m \u001b[38;5;28;01mfrom\u001b[39;00m \u001b[38;5;21;01mscipy\u001b[39;00m\u001b[38;5;21;01m.\u001b[39;00m\u001b[38;5;21;01mintegrate\u001b[39;00m \u001b[38;5;28;01mimport\u001b[39;00m simps \u001b[38;5;28;01mas\u001b[39;00m _simps\n\u001b[1;32m     12\u001b[0m \u001b[38;5;28;01mfrom\u001b[39;00m \u001b[38;5;21;01mscipy\u001b[39;00m\u001b[38;5;21;01m.\u001b[39;00m\u001b[38;5;21;01minterpolate\u001b[39;00m \u001b[38;5;28;01mimport\u001b[39;00m InterpolatedUnivariateSpline \u001b[38;5;28;01mas\u001b[39;00m _spline\n\u001b[1;32m     13\u001b[0m \u001b[38;5;28;01mfrom\u001b[39;00m \u001b[38;5;21;01mscipy\u001b[39;00m\u001b[38;5;21;01m.\u001b[39;00m\u001b[38;5;21;01moptimize\u001b[39;00m \u001b[38;5;28;01mimport\u001b[39;00m minimize\n",
      "\u001b[0;31mImportError\u001b[0m: cannot import name 'simps' from 'scipy.integrate' (/Users/giofer/anaconda3/envs/HOD/lib/python3.11/site-packages/scipy/integrate/__init__.py)"
     ]
    }
   ],
   "source": [
    "import numpy as np\n",
    "import acfhod.ClusteringAnalysis.CA as CA"
   ]
  },
  {
   "cell_type": "code",
   "execution_count": 16,
   "metadata": {},
   "outputs": [
    {
     "data": {
      "text/plain": [
       "['__builtins__',\n",
       " '__cached__',\n",
       " '__doc__',\n",
       " '__file__',\n",
       " '__loader__',\n",
       " '__name__',\n",
       " '__package__',\n",
       " '__path__',\n",
       " '__spec__']"
      ]
     },
     "execution_count": 16,
     "metadata": {},
     "output_type": "execute_result"
    }
   ],
   "source": [
    "dir(Utils)"
   ]
  },
  {
   "cell_type": "code",
   "execution_count": 6,
   "metadata": {},
   "outputs": [
    {
     "ename": "AttributeError",
     "evalue": "module 'acfhod.ClusteringAnalysis' has no attribute 'omega_2halo'",
     "output_type": "error",
     "traceback": [
      "\u001b[0;31m---------------------------------------------------------------------------\u001b[0m",
      "\u001b[0;31mAttributeError\u001b[0m                            Traceback (most recent call last)",
      "File \u001b[0;32m<timed exec>:6\u001b[0m\n",
      "\u001b[0;31mAttributeError\u001b[0m: module 'acfhod.ClusteringAnalysis' has no attribute 'omega_2halo'"
     ]
    }
   ],
   "source": [
    "%%time\n",
    "z_array = [1.30, 1.50, 1.70, 1.90, 2.10]\n",
    "N_z_nrm = np.ones(len(z_array))\n",
    "M_min, M_sat = 10**12.76, 10**15.15\n",
    "sigma_logM, alpha = 0.2, 1.0\n",
    "theta = np.logspace(-0.5, 3.5, 11)/206265\n",
    "o2 = acfhod.ClusteringAnalysis.omega_2halo(theta, M_min, sigma_logM, M_sat, alpha, N_z_nrm, z_array)"
   ]
  },
  {
   "cell_type": "code",
   "execution_count": null,
   "metadata": {},
   "outputs": [],
   "source": [
    "fig, ax = plt.subplots(1, 1, figsize=(4.5, 3), sharex=False, sharey=False)\n",
    "ax.plot(th_arr*206265, o2, c = 'r', ls = '--', alpha = 0.5, label='2-halo')\n",
    "ax.set_xscale('log')\n",
    "ax.set_yscale('log')\n",
    "ax.set_xlim((0.5,2e3))\n",
    "ax.set_ylim((1e-2, 1e1))\n",
    "ax.set_xlabel(r'$\\theta$ [arcsec]')\n",
    "ax.set_ylabel(r'$\\omega$($\\theta$)')\n",
    "plt.legend()\n",
    "plt.show()"
   ]
  }
 ],
 "metadata": {
  "kernelspec": {
   "display_name": "HOD",
   "language": "python",
   "name": "python3"
  },
  "language_info": {
   "codemirror_mode": {
    "name": "ipython",
    "version": 3
   },
   "file_extension": ".py",
   "mimetype": "text/x-python",
   "name": "python",
   "nbconvert_exporter": "python",
   "pygments_lexer": "ipython3",
   "version": "3.11.5"
  }
 },
 "nbformat": 4,
 "nbformat_minor": 2
}
