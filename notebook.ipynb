{
 "cells": [
  {
   "cell_type": "code",
   "execution_count": null,
   "metadata": {},
   "outputs": [
    {
     "ename": "",
     "evalue": "",
     "output_type": "error",
     "traceback": [
      "\u001b[1;31mThe kernel failed to start due to the missing module 'prompt_toolkit.formatted_text'. Consider installing this module.\n",
      "\u001b[1;31mClick <a href='https://aka.ms/kernelFailuresMissingModule'>here</a> for more info."
     ]
    }
   ],
   "source": [
    "import numpy as np\n",
    "import acfhod.ClusteringAnalysis.CA as CA"
   ]
  },
  {
   "cell_type": "code",
   "execution_count": 6,
   "metadata": {},
   "outputs": [
    {
     "ename": "AttributeError",
     "evalue": "module 'acfhod.ClusteringAnalysis' has no attribute 'omega_2halo'",
     "output_type": "error",
     "traceback": [
      "\u001b[0;31m---------------------------------------------------------------------------\u001b[0m",
      "\u001b[0;31mAttributeError\u001b[0m                            Traceback (most recent call last)",
      "File \u001b[0;32m<timed exec>:6\u001b[0m\n",
      "\u001b[0;31mAttributeError\u001b[0m: module 'acfhod.ClusteringAnalysis' has no attribute 'omega_2halo'"
     ]
    }
   ],
   "source": [
    "%%time\n",
    "import numpy as np;\n",
    "import matplotlib.pyplot as plt;\n",
    "import acfhod.ClusteringAnalysis.CA as CA;\n",
    "z_array = [1.30, 1.50, 1.70, 1.90, 2.10];\n",
    "N_z_nrm = np.ones(len(z_array));\n",
    "M_min, M_sat = 10**12.76, 10**15.15;\n",
    "sigma_logM, alpha = 0.2, 1.0;\n",
    "theta = np.logspace(-0.5, 3.5, 11)/206265;\n",
    "o1 = CA.omega_1halo(theta, M_min, sigma_logM, M_sat, alpha, N_z_nrm, z_array);\n",
    "o2 = CA.omega_2halo(theta, M_min, sigma_logM, M_sat, alpha, N_z_nrm, z_array);\n",
    "fig, ax = plt.subplots(1, 1, figsize=(4.5, 3), sharex=False, sharey=False);\n",
    "ax.plot(theta*206265, o1, c = 'r', ls = '--', alpha = 0.5, label='1-halo');\n",
    "ax.plot(theta*206265, o2, c = 'b', ls = '--', alpha = 0.5, label='2-halo');\n",
    "ax.plot(theta*206265, o1+o2, c = 'k', ls = '-', alpha = 1, label='HOD');\n",
    "ax.set_xscale('log');\n",
    "ax.set_yscale('log');\n",
    "ax.set_xlim((0.5,2e3));\n",
    "ax.set_ylim((1e-2, 1e1));\n",
    "ax.set_xlabel(r'$\\theta$ [arcsec]');\n",
    "ax.set_ylabel(r'$\\omega$($\\theta$)');\n",
    "plt.legend();\n",
    "plt.savefig('test_HOD.png', dpi=200, bbox_inches='tight');\n",
    "plt.show();"
   ]
  },
  {
   "cell_type": "code",
   "execution_count": null,
   "metadata": {},
   "outputs": [],
   "source": [
    "fig, ax = plt.subplots(1, 1, figsize=(4.5, 3), sharex=False, sharey=False)\n",
    "ax.plot(th_arr*206265, o2, c = 'r', ls = '--', alpha = 0.5, label='2-halo')\n",
    "ax.set_xscale('log')\n",
    "ax.set_yscale('log')\n",
    "ax.set_xlim((0.5,2e3))\n",
    "ax.set_ylim((1e-2, 1e1))\n",
    "ax.set_xlabel(r'$\\theta$ [arcsec]')\n",
    "ax.set_ylabel(r'$\\omega$($\\theta$)')\n",
    "plt.legend()\n",
    "plt.show()"
   ]
  }
 ],
 "metadata": {
  "kernelspec": {
   "display_name": "HOD",
   "language": "python",
   "name": "python3"
  },
  "language_info": {
   "codemirror_mode": {
    "name": "ipython",
    "version": 3
   },
   "file_extension": ".py",
   "mimetype": "text/x-python",
   "name": "python",
   "nbconvert_exporter": "python",
   "pygments_lexer": "ipython3",
   "version": "3.11.3"
  }
 },
 "nbformat": 4,
 "nbformat_minor": 2
}
