{
 "cells": [
  {
   "cell_type": "code",
   "execution_count": null,
   "metadata": {},
   "outputs": [
    {
     "ename": "",
     "evalue": "",
     "output_type": "error",
     "traceback": [
      "\u001b[1;31mRunning cells with 'ACFHOD' requires the ipykernel package.\n",
      "\u001b[1;31mRun the following command to install 'ipykernel' into the Python environment. \n",
      "\u001b[1;31mCommand: 'conda install -n ACFHOD ipykernel --update-deps --force-reinstall'"
     ]
    }
   ],
   "source": [
    "import numpy as np\n",
    "import acfhod.ClusteringAnalysis.CA as CA"
   ]
  },
  {
   "cell_type": "code",
   "execution_count": 16,
   "metadata": {},
   "outputs": [
    {
     "data": {
      "text/plain": [
       "['__builtins__',\n",
       " '__cached__',\n",
       " '__doc__',\n",
       " '__file__',\n",
       " '__loader__',\n",
       " '__name__',\n",
       " '__package__',\n",
       " '__path__',\n",
       " '__spec__']"
      ]
     },
     "execution_count": 16,
     "metadata": {},
     "output_type": "execute_result"
    }
   ],
   "source": [
    "dir(Utils)"
   ]
  },
  {
   "cell_type": "code",
   "execution_count": 6,
   "metadata": {},
   "outputs": [
    {
     "ename": "AttributeError",
     "evalue": "module 'acfhod.ClusteringAnalysis' has no attribute 'omega_2halo'",
     "output_type": "error",
     "traceback": [
      "\u001b[0;31m---------------------------------------------------------------------------\u001b[0m",
      "\u001b[0;31mAttributeError\u001b[0m                            Traceback (most recent call last)",
      "File \u001b[0;32m<timed exec>:6\u001b[0m\n",
      "\u001b[0;31mAttributeError\u001b[0m: module 'acfhod.ClusteringAnalysis' has no attribute 'omega_2halo'"
     ]
    }
   ],
   "source": [
    "%%time\n",
    "z_array = [1.30, 1.50, 1.70, 1.90, 2.10]\n",
    "N_z_nrm = np.ones(len(z_array))\n",
    "M_min, M_sat = 10**12.76, 10**15.15\n",
    "sigma_logM, alpha = 0.2, 1.0\n",
    "theta = np.logspace(-0.5, 3.5, 11)/206265\n",
    "o2 = acfhod.ClusteringAnalysis.omega_2halo(theta, M_min, sigma_logM, M_sat, alpha, N_z_nrm, z_array)"
   ]
  },
  {
   "cell_type": "code",
   "execution_count": null,
   "metadata": {},
   "outputs": [],
   "source": [
    "fig, ax = plt.subplots(1, 1, figsize=(4.5, 3), sharex=False, sharey=False)\n",
    "ax.plot(th_arr*206265, o2, c = 'r', ls = '--', alpha = 0.5, label='2-halo')\n",
    "ax.set_xscale('log')\n",
    "ax.set_yscale('log')\n",
    "ax.set_xlim((0.5,2e3))\n",
    "ax.set_ylim((1e-2, 1e1))\n",
    "ax.set_xlabel(r'$\\theta$ [arcsec]')\n",
    "ax.set_ylabel(r'$\\omega$($\\theta$)')\n",
    "plt.legend()\n",
    "plt.show()"
   ]
  }
 ],
 "metadata": {
  "kernelspec": {
   "display_name": "HOD",
   "language": "python",
   "name": "python3"
  },
  "language_info": {
   "codemirror_mode": {
    "name": "ipython",
    "version": 3
   },
   "file_extension": ".py",
   "mimetype": "text/x-python",
   "name": "python",
   "nbconvert_exporter": "python",
   "pygments_lexer": "ipython3",
   "version": "3.11.5"
  }
 },
 "nbformat": 4,
 "nbformat_minor": 2
}
